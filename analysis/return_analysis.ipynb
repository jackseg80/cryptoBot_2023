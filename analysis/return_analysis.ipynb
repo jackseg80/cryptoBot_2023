{
 "cells": [
  {
   "cell_type": "code",
   "execution_count": 4,
   "metadata": {},
   "outputs": [],
   "source": [
    "import sys\n",
    "sys.path.append('..')\n",
    "from utilities.get_data import get_historical_from_db\n",
    "import pandas as pd \n",
    "import ccxt\n",
    "import matplotlib.pyplot as plt\n",
    "import seaborn as sns\n",
    "import numpy as np\n",
    "import scipy.stats as stats\n",
    "import math"
   ]
  },
  {
   "cell_type": "code",
   "execution_count": 37,
   "metadata": {},
   "outputs": [],
   "source": [
    "df = get_historical_from_db(ccxt.binance(),\"ALGO/USDT\",\"1h\",path=\"../database/\").loc[:]"
   ]
  },
  {
   "cell_type": "code",
   "execution_count": 38,
   "metadata": {},
   "outputs": [
    {
     "data": {
      "text/html": [
       "<div>\n",
       "<style scoped>\n",
       "    .dataframe tbody tr th:only-of-type {\n",
       "        vertical-align: middle;\n",
       "    }\n",
       "\n",
       "    .dataframe tbody tr th {\n",
       "        vertical-align: top;\n",
       "    }\n",
       "\n",
       "    .dataframe thead th {\n",
       "        text-align: right;\n",
       "    }\n",
       "</style>\n",
       "<table border=\"1\" class=\"dataframe\">\n",
       "  <thead>\n",
       "    <tr style=\"text-align: right;\">\n",
       "      <th></th>\n",
       "      <th>open</th>\n",
       "      <th>high</th>\n",
       "      <th>low</th>\n",
       "      <th>close</th>\n",
       "      <th>volume</th>\n",
       "      <th>return_pct</th>\n",
       "      <th>abs_return</th>\n",
       "      <th>abs_return_round</th>\n",
       "      <th>evol_1</th>\n",
       "      <th>evol_3</th>\n",
       "      <th>evol_5</th>\n",
       "      <th>evol_10</th>\n",
       "      <th>evol_20</th>\n",
       "      <th>evol_50</th>\n",
       "    </tr>\n",
       "    <tr>\n",
       "      <th>date</th>\n",
       "      <th></th>\n",
       "      <th></th>\n",
       "      <th></th>\n",
       "      <th></th>\n",
       "      <th></th>\n",
       "      <th></th>\n",
       "      <th></th>\n",
       "      <th></th>\n",
       "      <th></th>\n",
       "      <th></th>\n",
       "      <th></th>\n",
       "      <th></th>\n",
       "      <th></th>\n",
       "      <th></th>\n",
       "    </tr>\n",
       "  </thead>\n",
       "  <tbody>\n",
       "    <tr>\n",
       "      <th>2019-06-22 00:00:00</th>\n",
       "      <td>3.4000</td>\n",
       "      <td>3.4400</td>\n",
       "      <td>2.6210</td>\n",
       "      <td>2.7090</td>\n",
       "      <td>2138741.658</td>\n",
       "      <td>NaN</td>\n",
       "      <td>NaN</td>\n",
       "      <td>NaN</td>\n",
       "      <td>0.221484</td>\n",
       "      <td>-2.288667</td>\n",
       "      <td>-4.252492</td>\n",
       "      <td>-6.009598</td>\n",
       "      <td>-12.541528</td>\n",
       "      <td>-20.925803</td>\n",
       "    </tr>\n",
       "    <tr>\n",
       "      <th>2019-06-22 01:00:00</th>\n",
       "      <td>2.7010</td>\n",
       "      <td>2.7960</td>\n",
       "      <td>2.5300</td>\n",
       "      <td>2.7150</td>\n",
       "      <td>902015.539</td>\n",
       "      <td>0.221484</td>\n",
       "      <td>0.221484</td>\n",
       "      <td>0.2</td>\n",
       "      <td>-1.583794</td>\n",
       "      <td>-5.107428</td>\n",
       "      <td>-5.569061</td>\n",
       "      <td>-6.850829</td>\n",
       "      <td>-13.777164</td>\n",
       "      <td>-21.815838</td>\n",
       "    </tr>\n",
       "    <tr>\n",
       "      <th>2019-06-22 02:00:00</th>\n",
       "      <td>2.7150</td>\n",
       "      <td>2.7490</td>\n",
       "      <td>2.6010</td>\n",
       "      <td>2.6720</td>\n",
       "      <td>512599.433</td>\n",
       "      <td>-1.583794</td>\n",
       "      <td>1.583794</td>\n",
       "      <td>1.6</td>\n",
       "      <td>-4.416168</td>\n",
       "      <td>-5.414172</td>\n",
       "      <td>-5.261976</td>\n",
       "      <td>-6.133982</td>\n",
       "      <td>-13.250374</td>\n",
       "      <td>-21.258234</td>\n",
       "    </tr>\n",
       "    <tr>\n",
       "      <th>2019-06-22 03:00:00</th>\n",
       "      <td>2.6750</td>\n",
       "      <td>2.7140</td>\n",
       "      <td>2.5400</td>\n",
       "      <td>2.5540</td>\n",
       "      <td>994259.176</td>\n",
       "      <td>-4.416168</td>\n",
       "      <td>4.416168</td>\n",
       "      <td>4.4</td>\n",
       "      <td>-1.996868</td>\n",
       "      <td>-0.900548</td>\n",
       "      <td>-1.386061</td>\n",
       "      <td>-3.104933</td>\n",
       "      <td>-9.951057</td>\n",
       "      <td>-18.243540</td>\n",
       "    </tr>\n",
       "    <tr>\n",
       "      <th>2019-06-22 04:00:00</th>\n",
       "      <td>2.5430</td>\n",
       "      <td>2.5620</td>\n",
       "      <td>2.4760</td>\n",
       "      <td>2.5030</td>\n",
       "      <td>969104.836</td>\n",
       "      <td>-1.996868</td>\n",
       "      <td>1.996868</td>\n",
       "      <td>2.0</td>\n",
       "      <td>0.878945</td>\n",
       "      <td>1.211879</td>\n",
       "      <td>0.159808</td>\n",
       "      <td>-2.616860</td>\n",
       "      <td>-8.957251</td>\n",
       "      <td>-17.242509</td>\n",
       "    </tr>\n",
       "    <tr>\n",
       "      <th>...</th>\n",
       "      <td>...</td>\n",
       "      <td>...</td>\n",
       "      <td>...</td>\n",
       "      <td>...</td>\n",
       "      <td>...</td>\n",
       "      <td>...</td>\n",
       "      <td>...</td>\n",
       "      <td>...</td>\n",
       "      <td>...</td>\n",
       "      <td>...</td>\n",
       "      <td>...</td>\n",
       "      <td>...</td>\n",
       "      <td>...</td>\n",
       "      <td>...</td>\n",
       "    </tr>\n",
       "    <tr>\n",
       "      <th>2022-05-31 12:00:00</th>\n",
       "      <td>0.4156</td>\n",
       "      <td>0.4176</td>\n",
       "      <td>0.4087</td>\n",
       "      <td>0.4103</td>\n",
       "      <td>2186280.000</td>\n",
       "      <td>-1.251504</td>\n",
       "      <td>1.251504</td>\n",
       "      <td>1.3</td>\n",
       "      <td>-1.974165</td>\n",
       "      <td>-0.666179</td>\n",
       "      <td>NaN</td>\n",
       "      <td>NaN</td>\n",
       "      <td>NaN</td>\n",
       "      <td>NaN</td>\n",
       "    </tr>\n",
       "    <tr>\n",
       "      <th>2022-05-31 13:00:00</th>\n",
       "      <td>0.4103</td>\n",
       "      <td>0.4198</td>\n",
       "      <td>0.3969</td>\n",
       "      <td>0.4022</td>\n",
       "      <td>6809098.000</td>\n",
       "      <td>-1.974165</td>\n",
       "      <td>1.974165</td>\n",
       "      <td>2.0</td>\n",
       "      <td>1.491795</td>\n",
       "      <td>2.171391</td>\n",
       "      <td>NaN</td>\n",
       "      <td>NaN</td>\n",
       "      <td>NaN</td>\n",
       "      <td>NaN</td>\n",
       "    </tr>\n",
       "    <tr>\n",
       "      <th>2022-05-31 14:00:00</th>\n",
       "      <td>0.4020</td>\n",
       "      <td>0.4087</td>\n",
       "      <td>0.3954</td>\n",
       "      <td>0.4082</td>\n",
       "      <td>3022118.000</td>\n",
       "      <td>1.491795</td>\n",
       "      <td>1.491795</td>\n",
       "      <td>1.5</td>\n",
       "      <td>1.004410</td>\n",
       "      <td>NaN</td>\n",
       "      <td>NaN</td>\n",
       "      <td>NaN</td>\n",
       "      <td>NaN</td>\n",
       "      <td>NaN</td>\n",
       "    </tr>\n",
       "    <tr>\n",
       "      <th>2022-05-31 15:00:00</th>\n",
       "      <td>0.4081</td>\n",
       "      <td>0.4159</td>\n",
       "      <td>0.4029</td>\n",
       "      <td>0.4123</td>\n",
       "      <td>2424767.000</td>\n",
       "      <td>1.004410</td>\n",
       "      <td>1.004410</td>\n",
       "      <td>1.0</td>\n",
       "      <td>0.000000</td>\n",
       "      <td>NaN</td>\n",
       "      <td>NaN</td>\n",
       "      <td>NaN</td>\n",
       "      <td>NaN</td>\n",
       "      <td>NaN</td>\n",
       "    </tr>\n",
       "    <tr>\n",
       "      <th>2022-05-31 16:00:00</th>\n",
       "      <td>0.4123</td>\n",
       "      <td>0.4124</td>\n",
       "      <td>0.4122</td>\n",
       "      <td>0.4123</td>\n",
       "      <td>5771.000</td>\n",
       "      <td>0.000000</td>\n",
       "      <td>0.000000</td>\n",
       "      <td>0.0</td>\n",
       "      <td>NaN</td>\n",
       "      <td>NaN</td>\n",
       "      <td>NaN</td>\n",
       "      <td>NaN</td>\n",
       "      <td>NaN</td>\n",
       "      <td>NaN</td>\n",
       "    </tr>\n",
       "  </tbody>\n",
       "</table>\n",
       "<p>25751 rows × 14 columns</p>\n",
       "</div>"
      ],
      "text/plain": [
       "                       open    high     low   close       volume  return_pct  \\\n",
       "date                                                                           \n",
       "2019-06-22 00:00:00  3.4000  3.4400  2.6210  2.7090  2138741.658         NaN   \n",
       "2019-06-22 01:00:00  2.7010  2.7960  2.5300  2.7150   902015.539    0.221484   \n",
       "2019-06-22 02:00:00  2.7150  2.7490  2.6010  2.6720   512599.433   -1.583794   \n",
       "2019-06-22 03:00:00  2.6750  2.7140  2.5400  2.5540   994259.176   -4.416168   \n",
       "2019-06-22 04:00:00  2.5430  2.5620  2.4760  2.5030   969104.836   -1.996868   \n",
       "...                     ...     ...     ...     ...          ...         ...   \n",
       "2022-05-31 12:00:00  0.4156  0.4176  0.4087  0.4103  2186280.000   -1.251504   \n",
       "2022-05-31 13:00:00  0.4103  0.4198  0.3969  0.4022  6809098.000   -1.974165   \n",
       "2022-05-31 14:00:00  0.4020  0.4087  0.3954  0.4082  3022118.000    1.491795   \n",
       "2022-05-31 15:00:00  0.4081  0.4159  0.4029  0.4123  2424767.000    1.004410   \n",
       "2022-05-31 16:00:00  0.4123  0.4124  0.4122  0.4123     5771.000    0.000000   \n",
       "\n",
       "                     abs_return  abs_return_round    evol_1    evol_3  \\\n",
       "date                                                                    \n",
       "2019-06-22 00:00:00         NaN               NaN  0.221484 -2.288667   \n",
       "2019-06-22 01:00:00    0.221484               0.2 -1.583794 -5.107428   \n",
       "2019-06-22 02:00:00    1.583794               1.6 -4.416168 -5.414172   \n",
       "2019-06-22 03:00:00    4.416168               4.4 -1.996868 -0.900548   \n",
       "2019-06-22 04:00:00    1.996868               2.0  0.878945  1.211879   \n",
       "...                         ...               ...       ...       ...   \n",
       "2022-05-31 12:00:00    1.251504               1.3 -1.974165 -0.666179   \n",
       "2022-05-31 13:00:00    1.974165               2.0  1.491795  2.171391   \n",
       "2022-05-31 14:00:00    1.491795               1.5  1.004410       NaN   \n",
       "2022-05-31 15:00:00    1.004410               1.0  0.000000       NaN   \n",
       "2022-05-31 16:00:00    0.000000               0.0       NaN       NaN   \n",
       "\n",
       "                       evol_5   evol_10    evol_20    evol_50  \n",
       "date                                                           \n",
       "2019-06-22 00:00:00 -4.252492 -6.009598 -12.541528 -20.925803  \n",
       "2019-06-22 01:00:00 -5.569061 -6.850829 -13.777164 -21.815838  \n",
       "2019-06-22 02:00:00 -5.261976 -6.133982 -13.250374 -21.258234  \n",
       "2019-06-22 03:00:00 -1.386061 -3.104933  -9.951057 -18.243540  \n",
       "2019-06-22 04:00:00  0.159808 -2.616860  -8.957251 -17.242509  \n",
       "...                       ...       ...        ...        ...  \n",
       "2022-05-31 12:00:00       NaN       NaN        NaN        NaN  \n",
       "2022-05-31 13:00:00       NaN       NaN        NaN        NaN  \n",
       "2022-05-31 14:00:00       NaN       NaN        NaN        NaN  \n",
       "2022-05-31 15:00:00       NaN       NaN        NaN        NaN  \n",
       "2022-05-31 16:00:00       NaN       NaN        NaN        NaN  \n",
       "\n",
       "[25751 rows x 14 columns]"
      ]
     },
     "execution_count": 38,
     "metadata": {},
     "output_type": "execute_result"
    }
   ],
   "source": [
    "df[\"return_pct\"] = df[\"close\"].pct_change() * 100\n",
    "df[\"abs_return\"] = abs(df[\"return_pct\"])\n",
    "df[\"abs_return_round\"] = df[\"abs_return\"].round(1)\n",
    "df[\"evol_1\"] = ((df[\"close\"].rolling(1).mean().shift(-1) - df[\"close\"]) / df[\"close\"] * 100)\n",
    "df[\"evol_3\"] = ((df[\"close\"].rolling(3).mean().shift(-3) - df[\"close\"]) / df[\"close\"] * 100)\n",
    "df[\"evol_5\"] = (df[\"close\"].rolling(5).mean().shift(-5) - df[\"close\"]) / df[\"close\"] * 100\n",
    "df[\"evol_10\"] = (df[\"close\"].rolling(10).mean().shift(-10) - df[\"close\"]) / df[\"close\"] * 100\n",
    "df[\"evol_20\"] = (df[\"close\"].rolling(20).mean().shift(-20) - df[\"close\"]) / df[\"close\"] * 100\n",
    "df[\"evol_50\"] = (df[\"close\"].rolling(50).mean().shift(-50) - df[\"close\"]) / df[\"close\"] * 100\n",
    "\n",
    "evol_top10 = df[\"abs_return\"].fillna(0).sort_values().iloc[int(-0.1*len(df)):].iloc[0]\n",
    "evol_top5 = df[\"abs_return\"].fillna(0).sort_values().iloc[int(-0.05*len(df)):].iloc[0]\n",
    "evol_top1 = df[\"abs_return\"].fillna(0).sort_values().iloc[int(-0.01*len(df)):].iloc[0]\n",
    "df"
   ]
  },
  {
   "cell_type": "code",
   "execution_count": 39,
   "metadata": {},
   "outputs": [
    {
     "name": "stdout",
     "output_type": "stream",
     "text": [
      "0.01 %\n",
      "0.01 %\n",
      "0.01 %\n",
      "0.02 %\n",
      "0.04 %\n",
      "0.08 %\n"
     ]
    }
   ],
   "source": [
    "print(round(df[\"evol_1\"].mean(), 2), \"%\")\n",
    "print(round(df[\"evol_3\"].mean(), 2), \"%\")\n",
    "print(round(df[\"evol_5\"].mean(), 2), \"%\")\n",
    "print(round(df[\"evol_10\"].mean(), 2), \"%\")\n",
    "print(round(df[\"evol_20\"].mean(), 2), \"%\")\n",
    "print(round(df[\"evol_50\"].mean(), 2), \"%\")"
   ]
  },
  {
   "cell_type": "code",
   "execution_count": 40,
   "metadata": {},
   "outputs": [
    {
     "name": "stdout",
     "output_type": "stream",
     "text": [
      "--- Evolution after a top 10% return candle (+/-2.39%) (1281 candles) ---\n",
      "\n",
      "Mean evolution (+) after 1 period: -0.17 %\n",
      "Mean evolution (+) after 3 period: -0.27 %\n",
      "Mean evolution (+) after 5 period: -0.27 %\n",
      "Mean evolution (+) after 10 period: -0.24 %\n",
      "Mean evolution (+) after 20 period: -0.18 %\n",
      "Mean evolution (+) after 50 period: -0.05 %\n",
      "------------------------------\n",
      "Mean evolution (-) after 1 period: 0.24 %\n",
      "Mean evolution (-) after 3 period: 0.33 %\n",
      "Mean evolution (-) after 5 period: 0.39 %\n",
      "Mean evolution (-) after 10 period: 0.51 %\n",
      "Mean evolution (-) after 20 period: 0.69 %\n",
      "Mean evolution (-) after 50 period: 1.07 %\n"
     ]
    }
   ],
   "source": [
    "print(\"--- Evolution after a top 10% return candle (+/-\"+str(round(evol_top10,2))+\"%) (\"+ str(len(df[df[\"return_pct\"] > evol_top10])) +\" candles) ---\\n\")\n",
    "print(\"Mean evolution (+) after 1 period:\", round(df[df[\"return_pct\"] > evol_top10][\"evol_1\"].mean(),2), \"%\")\n",
    "print(\"Mean evolution (+) after 3 period:\", round(df[df[\"return_pct\"] > evol_top10][\"evol_3\"].mean(),2), \"%\")\n",
    "print(\"Mean evolution (+) after 5 period:\", round(df[df[\"return_pct\"] > evol_top10][\"evol_5\"].mean(),2), \"%\")\n",
    "print(\"Mean evolution (+) after 10 period:\", round(df[df[\"return_pct\"] > evol_top10][\"evol_10\"].mean(),2), \"%\")\n",
    "print(\"Mean evolution (+) after 20 period:\", round(df[df[\"return_pct\"] > evol_top10][\"evol_20\"].mean(),2), \"%\")\n",
    "print(\"Mean evolution (+) after 50 period:\", round(df[df[\"return_pct\"] > evol_top10][\"evol_50\"].mean(),2), \"%\")\n",
    "print(\"-\"*30)\n",
    "print(\"Mean evolution (-) after 1 period:\", round(df[df[\"return_pct\"] < -evol_top10][\"evol_1\"].mean(),2), \"%\")\n",
    "print(\"Mean evolution (-) after 3 period:\", round(df[df[\"return_pct\"] < -evol_top10][\"evol_3\"].mean(),2), \"%\")\n",
    "print(\"Mean evolution (-) after 5 period:\", round(df[df[\"return_pct\"] < -evol_top10][\"evol_5\"].mean(),2), \"%\")\n",
    "print(\"Mean evolution (-) after 10 period:\", round(df[df[\"return_pct\"] < -evol_top10][\"evol_10\"].mean(),2), \"%\")\n",
    "print(\"Mean evolution (-) after 20 period:\", round(df[df[\"return_pct\"] < -evol_top10][\"evol_20\"].mean(),2), \"%\")\n",
    "print(\"Mean evolution (-) after 50 period:\", round(df[df[\"return_pct\"] < -evol_top10][\"evol_50\"].mean(),2), \"%\")"
   ]
  },
  {
   "cell_type": "code",
   "execution_count": 41,
   "metadata": {},
   "outputs": [
    {
     "name": "stdout",
     "output_type": "stream",
     "text": [
      "--- Evolution after a top 5% return candle (+/-3.15%) (648 candles) ---\n",
      "\n",
      "Mean evolution (+) after 1 period: -0.2 %\n",
      "Mean evolution (+) after 3 period: -0.32 %\n",
      "Mean evolution (+) after 5 period: -0.33 %\n",
      "Mean evolution (+) after 10 period: -0.32 %\n",
      "Mean evolution (+) after 20 period: -0.22 %\n",
      "Mean evolution (+) after 50 period: -0.14 %\n",
      "------------------------------\n",
      "Mean evolution (-) after 1 period: 0.33 %\n",
      "Mean evolution (-) after 3 period: 0.43 %\n",
      "Mean evolution (-) after 5 period: 0.47 %\n",
      "Mean evolution (-) after 10 period: 0.58 %\n",
      "Mean evolution (-) after 20 period: 0.77 %\n",
      "Mean evolution (-) after 50 period: 1.39 %\n"
     ]
    }
   ],
   "source": [
    "print(\"--- Evolution after a top 5% return candle (+/-\"+str(round(evol_top5,2))+\"%) (\"+ str(len(df[df[\"return_pct\"] > evol_top5])) +\" candles) ---\\n\")\n",
    "print(\"Mean evolution (+) after 1 period:\", round(df[df[\"return_pct\"] > evol_top5][\"evol_1\"].mean(),2), \"%\")\n",
    "print(\"Mean evolution (+) after 3 period:\", round(df[df[\"return_pct\"] > evol_top5][\"evol_3\"].mean(),2), \"%\")\n",
    "print(\"Mean evolution (+) after 5 period:\", round(df[df[\"return_pct\"] > evol_top5][\"evol_5\"].mean(),2), \"%\")\n",
    "print(\"Mean evolution (+) after 10 period:\", round(df[df[\"return_pct\"] > evol_top5][\"evol_10\"].mean(),2), \"%\")\n",
    "print(\"Mean evolution (+) after 20 period:\", round(df[df[\"return_pct\"] > evol_top5][\"evol_20\"].mean(),2), \"%\")\n",
    "print(\"Mean evolution (+) after 50 period:\", round(df[df[\"return_pct\"] > evol_top5][\"evol_50\"].mean(),2), \"%\")\n",
    "print(\"-\"*30)\n",
    "print(\"Mean evolution (-) after 1 period:\", round(df[df[\"return_pct\"] < -evol_top5][\"evol_1\"].mean(),2), \"%\")\n",
    "print(\"Mean evolution (-) after 3 period:\", round(df[df[\"return_pct\"] < -evol_top5][\"evol_3\"].mean(),2), \"%\")\n",
    "print(\"Mean evolution (-) after 5 period:\", round(df[df[\"return_pct\"] < -evol_top5][\"evol_5\"].mean(),2), \"%\")\n",
    "print(\"Mean evolution (-) after 10 period:\", round(df[df[\"return_pct\"] < -evol_top5][\"evol_10\"].mean(),2), \"%\")\n",
    "print(\"Mean evolution (-) after 20 period:\", round(df[df[\"return_pct\"] < -evol_top5][\"evol_20\"].mean(),2), \"%\")\n",
    "print(\"Mean evolution (-) after 50 period:\", round(df[df[\"return_pct\"] < -evol_top5][\"evol_50\"].mean(),2), \"%\")"
   ]
  },
  {
   "cell_type": "code",
   "execution_count": 42,
   "metadata": {},
   "outputs": [
    {
     "name": "stdout",
     "output_type": "stream",
     "text": [
      "--- Evolution after a top 1% return candle (+/-5.45%) (142 candles) ---\n",
      "\n",
      "Mean evolution (+) after 1 period: 0.0 %\n",
      "Mean evolution (+) after 3 period: -0.25 %\n",
      "Mean evolution (+) after 5 period: -0.1 %\n",
      "Mean evolution (+) after 10 period: 0.16 %\n",
      "Mean evolution (+) after 20 period: 0.47 %\n",
      "Mean evolution (+) after 50 period: 0.74 %\n",
      "------------------------------\n",
      "Mean evolution (-) after 1 period: 1.26 %\n",
      "Mean evolution (-) after 3 period: 1.55 %\n",
      "Mean evolution (-) after 5 period: 1.71 %\n",
      "Mean evolution (-) after 10 period: 1.96 %\n",
      "Mean evolution (-) after 20 period: 2.41 %\n",
      "Mean evolution (-) after 50 period: 3.52 %\n"
     ]
    }
   ],
   "source": [
    "print(\"--- Evolution after a top 1% return candle (+/-\"+str(round(evol_top1,2))+\"%) (\"+ str(len(df[df[\"return_pct\"] > evol_top1])) +\" candles) ---\\n\")\n",
    "print(\"Mean evolution (+) after 1 period:\", round(df[df[\"return_pct\"] > evol_top1][\"evol_1\"].mean(),2), \"%\")\n",
    "print(\"Mean evolution (+) after 3 period:\", round(df[df[\"return_pct\"] > evol_top1][\"evol_3\"].mean(),2), \"%\")\n",
    "print(\"Mean evolution (+) after 5 period:\", round(df[df[\"return_pct\"] > evol_top1][\"evol_5\"].mean(),2), \"%\")\n",
    "print(\"Mean evolution (+) after 10 period:\", round(df[df[\"return_pct\"] > evol_top1][\"evol_10\"].mean(),2), \"%\")\n",
    "print(\"Mean evolution (+) after 20 period:\", round(df[df[\"return_pct\"] > evol_top1][\"evol_20\"].mean(),2), \"%\")\n",
    "print(\"Mean evolution (+) after 50 period:\", round(df[df[\"return_pct\"] > evol_top1][\"evol_50\"].mean(),2), \"%\")\n",
    "print(\"-\"*30)\n",
    "print(\"Mean evolution (-) after 1 period:\", round(df[df[\"return_pct\"] < -evol_top1][\"evol_1\"].mean(),2), \"%\")\n",
    "print(\"Mean evolution (-) after 3 period:\", round(df[df[\"return_pct\"] < -evol_top1][\"evol_3\"].mean(),2), \"%\")\n",
    "print(\"Mean evolution (-) after 5 period:\", round(df[df[\"return_pct\"] < -evol_top1][\"evol_5\"].mean(),2), \"%\")\n",
    "print(\"Mean evolution (-) after 10 period:\", round(df[df[\"return_pct\"] < -evol_top1][\"evol_10\"].mean(),2), \"%\")\n",
    "print(\"Mean evolution (-) after 20 period:\", round(df[df[\"return_pct\"] < -evol_top1][\"evol_20\"].mean(),2), \"%\")\n",
    "print(\"Mean evolution (-) after 50 period:\", round(df[df[\"return_pct\"] < -evol_top1][\"evol_50\"].mean(),2), \"%\")"
   ]
  },
  {
   "cell_type": "code",
   "execution_count": 24,
   "metadata": {},
   "outputs": [
    {
     "data": {
      "text/plain": [
       "1639.66513127828"
      ]
     },
     "execution_count": 24,
     "metadata": {},
     "output_type": "execute_result"
    }
   ],
   "source": [
    "wallet = 1000\n",
    "for i in range(int(365*24/100)):\n",
    "    wallet += 0.0057 * wallet \n",
    "    \n",
    "wallet"
   ]
  },
  {
   "cell_type": "code",
   "execution_count": 184,
   "metadata": {},
   "outputs": [
    {
     "data": {
      "image/png": "[encoded data removed]",
      "text/plain": [
       "<Figure size 432x288 with 1 Axes>"
      ]
     },
     "metadata": {
      "needs_background": "light"
     },
     "output_type": "display_data"
    }
   ],
   "source": [
    "ax, ay, _ = plt.hist(df[\"return_pct\"], bins=100, density=True, stacked=True)\n",
    "mean = 0; std = (df[\"return_pct\"].std())/10; variance = np.square(std)\n",
    "x = np.arange(-30,30,.01)\n",
    "f = 0.17*np.exp(-np.square(x-mean)/2*variance)/(np.sqrt(2*np.pi*variance))\n",
    "\n",
    "plt.plot(x,f)\n",
    "plt.ylabel('gaussian distribution')\n",
    "plt.show()"
   ]
  },
  {
   "cell_type": "code",
   "execution_count": 185,
   "metadata": {},
   "outputs": [
    {
     "data": {
      "image/png": "[encoded data removed]",
      "text/plain": [
       "<Figure size 432x288 with 1 Axes>"
      ]
     },
     "metadata": {
      "needs_background": "light"
     },
     "output_type": "display_data"
    }
   ],
   "source": [
    "ax, ay, _ = plt.hist(df[\"abs_return\"], bins=100, density=True, stacked=True)\n",
    "mean = 0; std = (df[\"abs_return\"].std())/7; variance = np.square(std)\n",
    "x = np.arange(0,30,.01)\n",
    "f = 0.35*np.exp(-np.square(x-mean)/2*variance)/(np.sqrt(2*np.pi*variance))\n",
    "\n",
    "plt.plot(x,f)\n",
    "plt.ylabel('gaussian distribution')\n",
    "plt.show()"
   ]
  },
  {
   "cell_type": "code",
   "execution_count": 216,
   "metadata": {},
   "outputs": [
    {
     "data": {
      "text/plain": [
       "<AxesSubplot:xlabel='date'>"
      ]
     },
     "execution_count": 216,
     "metadata": {},
     "output_type": "execute_result"
    },
    {
     "data": {
      "image/png": "[encoded data removed]",
      "text/plain": [
       "<Figure size 432x288 with 1 Axes>"
      ]
     },
     "metadata": {
      "needs_background": "light"
     },
     "output_type": "display_data"
    }
   ],
   "source": [
    "df[\"abs_return\"].plot()"
   ]
  },
  {
   "cell_type": "code",
   "execution_count": 295,
   "metadata": {},
   "outputs": [
    {
     "data": {
      "image/png": "[encoded data removed]",
      "text/plain": [
       "<Figure size 432x288 with 1 Axes>"
      ]
     },
     "metadata": {
      "needs_background": "light"
     },
     "output_type": "display_data"
    }
   ],
   "source": [
    "ax, ay, _ = plt.hist(df[\"return_pct\"], bins=100, density=True, stacked=True)\n",
    "mean = 0; std = (df[\"return_pct\"].std())/0.5; variance = np.square(std)\n",
    "x = np.arange(-10,10,.01)\n",
    "f = 4*np.exp(-np.square(x-mean)/2*variance)/(np.sqrt(2*np.pi*variance))\n",
    "\n",
    "plt.plot(x,f)\n",
    "plt.ylabel('gaussian distribution')\n",
    "plt.show()"
   ]
  },
  {
   "cell_type": "code",
   "execution_count": 14,
   "metadata": {},
   "outputs": [
    {
     "data": {
      "image/png": "[encoded data removed]",
      "text/plain": [
       "<Figure size 432x288 with 1 Axes>"
      ]
     },
     "metadata": {
      "needs_background": "light"
     },
     "output_type": "display_data"
    }
   ],
   "source": [
    "ax = sns.boxplot(x=df[\"return_pct\"], palette=\"Set1\")"
   ]
  }
 ],
 "metadata": {
  "interpreter": {
   "hash": "43d0547da54b581a891b9f1225168ee6bef1bb0d82dbba2e7e7d5f80272661a6"
  },
  "kernelspec": {
   "display_name": "Python 3.10.2 64-bit",
   "language": "python",
   "name": "python3"
  },
  "language_info": {
   "codemirror_mode": {
    "name": "ipython",
    "version": 3
   },
   "file_extension": ".py",
   "mimetype": "text/x-python",
   "name": "python",
   "nbconvert_exporter": "python",
   "pygments_lexer": "ipython3",
   "version": "3.10.2"
  },
  "orig_nbformat": 4
 },
 "nbformat": 4,
 "nbformat_minor": 2
}
