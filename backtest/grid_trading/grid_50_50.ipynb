{
 "cells": [
  {
   "cell_type": "code",
   "execution_count": 1,
   "metadata": {},
   "outputs": [],
   "source": [
    "import sys\n",
    "sys.path.append('../..')\n",
    "from utilities.get_data import get_historical_from_db\n",
    "import pandas as pd\n",
    "import ccxt\n",
    "import matplotlib.pyplot as plt\n",
    "import ta"
   ]
  },
  {
   "cell_type": "code",
   "execution_count": 40,
   "metadata": {},
   "outputs": [],
   "source": [
    "pair = \"SOL/USD\"\n",
    "tf = \"1h\"\n",
    "\n",
    "df = get_historical_from_db(ccxt.ftx(),pair,tf,path=\"../../database/\")"
   ]
  },
  {
   "cell_type": "code",
   "execution_count": 41,
   "metadata": {},
   "outputs": [
    {
     "name": "stdout",
     "output_type": "stream",
     "text": [
      "1.4739479696366717 250\n",
      "1.9459078236660112 220.6902710515215\n"
     ]
    }
   ],
   "source": [
    "df = df.loc[\"2021-10-04\":]\n",
    "coin1_balance = 250 / df.iloc[0][\"close\"]\n",
    "coin2_balance = 250\n",
    "pct_check = 0.1\n",
    "trades = []\n",
    "print(coin1_balance, coin2_balance) \n",
    "\n",
    "for index, row in df.iterrows():\n",
    "    if coin2_balance > coin1_balance * row[\"close\"] * (1 + pct_check):\n",
    "        diff = coin2_balance - coin1_balance * row[\"close\"]\n",
    "        coin2_balance -= diff / 2\n",
    "        coin1_balance += (diff / 2) / row[\"close\"]\n",
    "        trades.append({\n",
    "            \"coin1_balance\": coin1_balance,\n",
    "            \"coin2_balance\": coin2_balance,\n",
    "            \n",
    "        })\n",
    "        \n",
    "    elif coin2_balance < coin1_balance * row[\"close\"] * (1 - pct_check):\n",
    "        diff = coin1_balance * row[\"close\"] - coin2_balance \n",
    "        coin2_balance += diff / 2\n",
    "        coin1_balance -= (diff / 2) / row[\"close\"]\n",
    "        \n",
    "        \n",
    "print(coin1_balance, coin2_balance)        "
   ]
  },
  {
   "cell_type": "code",
   "execution_count": null,
   "metadata": {},
   "outputs": [],
   "source": [
    "df_trades = pd.DataFrame(trade_list).iloc[:]\n",
    "df_trades['wallet_ath'] = df_trades['wallet'].cummax()\n",
    "df_trades['price_ath'] = df_trades['price'].cummax()\n",
    "df_trades['wallet_drawdown_pct'] = (df_trades['wallet_ath'] - df_trades['wallet']) / df_trades['wallet_ath']\n",
    "df_trades['price_drawdown_pct'] = (df_trades['price_ath'] - df_trades['price']) / df_trades['price_ath']\n",
    "max_trades_drawdown = df_trades['wallet_drawdown_pct'].max()\n",
    "max_price_drawdown = df_trades['price_drawdown_pct'].max()\n",
    "wallet_perf = (df_trades.iloc[-1]['wallet'] - df_trades.iloc[0]['wallet']) / df_trades.iloc[0]['wallet']\n",
    "price_perf = (df_trades.iloc[-1]['price'] - df_trades.iloc[0]['price']) / df_trades.iloc[0]['price']\n",
    "print(\"Total trades:\", len(df_trades))\n",
    "print(\"\\n--- Wallet ---\")\n",
    "print(\"Wallet performance: {}%\".format(round(wallet_perf*100, 2)))\n",
    "print(\"Worst Wallet Drawdown: -{}%\".format(round(max_trades_drawdown*100, 2)))\n",
    "print(\"\\n--- Asset ---\")\n",
    "print(\"Asset performance: {}%\".format(round(price_perf*100, 2)))\n",
    "print(\"Worst Asset Drawdown: -{}%\".format(round(max_price_drawdown*100, 2)))"
   ]
  },
  {
   "cell_type": "code",
   "execution_count": 28,
   "metadata": {},
   "outputs": [],
   "source": [
    "pair = \"ETH/BTC\"\n",
    "tf = \"1h\"\n",
    "\n",
    "df = get_historical_from_db(ccxt.binance(),pair,tf,path=\"../../database/\")"
   ]
  },
  {
   "cell_type": "code",
   "execution_count": 29,
   "metadata": {},
   "outputs": [
    {
     "name": "stdout",
     "output_type": "stream",
     "text": [
      "11.581178269077096 1\n",
      "16.435475547260246 1.1803465473775892\n"
     ]
    }
   ],
   "source": [
    "# df = df.loc[\"2018-05-23\":]\n",
    "coin1_balance = 1 / df.iloc[0][\"close\"]\n",
    "coin2_balance = 1 \n",
    "pct_check = 0.01\n",
    "trades = []\n",
    "print(coin1_balance, coin2_balance)    \n",
    "\n",
    "for index, row in df.iterrows():\n",
    "    if coin2_balance > coin1_balance * row[\"close\"] * (1 + pct_check):\n",
    "        diff = coin2_balance - coin1_balance * row[\"close\"]\n",
    "        coin2_balance -= diff / 2\n",
    "        coin1_balance += (diff / 2) / row[\"close\"]\n",
    "        trades.append({\n",
    "            \"coin1_balance\": coin1_balance,\n",
    "            \"coin2_balance\": coin2_balance,\n",
    "            \n",
    "        })\n",
    "        \n",
    "    elif coin2_balance < coin1_balance * row[\"close\"] * (1 - pct_check):\n",
    "        diff = coin1_balance * row[\"close\"] - coin2_balance \n",
    "        coin2_balance += diff / 2\n",
    "        coin1_balance -= (diff / 2) / row[\"close\"]\n",
    "        trades.append({\n",
    "            \"coin1_balance\": coin1_balance,\n",
    "            \"coin2_balance\": coin2_balance,\n",
    "            \n",
    "        })\n",
    "        \n",
    "        \n",
    "print(coin1_balance, coin2_balance)    "
   ]
  },
  {
   "cell_type": "code",
   "execution_count": 21,
   "metadata": {},
   "outputs": [
    {
     "data": {
      "text/html": [
       "<div>\n",
       "<style scoped>\n",
       "    .dataframe tbody tr th:only-of-type {\n",
       "        vertical-align: middle;\n",
       "    }\n",
       "\n",
       "    .dataframe tbody tr th {\n",
       "        vertical-align: top;\n",
       "    }\n",
       "\n",
       "    .dataframe thead th {\n",
       "        text-align: right;\n",
       "    }\n",
       "</style>\n",
       "<table border=\"1\" class=\"dataframe\">\n",
       "  <thead>\n",
       "    <tr style=\"text-align: right;\">\n",
       "      <th></th>\n",
       "      <th>coin1_balance</th>\n",
       "      <th>coin2_balance</th>\n",
       "    </tr>\n",
       "  </thead>\n",
       "  <tbody>\n",
       "    <tr>\n",
       "      <th>0</th>\n",
       "      <td>11.645459</td>\n",
       "      <td>0.994511</td>\n",
       "    </tr>\n",
       "    <tr>\n",
       "      <th>1</th>\n",
       "      <td>11.525198</td>\n",
       "      <td>1.004997</td>\n",
       "    </tr>\n",
       "    <tr>\n",
       "      <th>2</th>\n",
       "      <td>11.434717</td>\n",
       "      <td>1.013013</td>\n",
       "    </tr>\n",
       "    <tr>\n",
       "      <th>3</th>\n",
       "      <td>11.507526</td>\n",
       "      <td>1.006644</td>\n",
       "    </tr>\n",
       "    <tr>\n",
       "      <th>4</th>\n",
       "      <td>11.586810</td>\n",
       "      <td>0.999803</td>\n",
       "    </tr>\n",
       "    <tr>\n",
       "      <th>...</th>\n",
       "      <td>...</td>\n",
       "      <td>...</td>\n",
       "    </tr>\n",
       "    <tr>\n",
       "      <th>5906</th>\n",
       "      <td>16.634456</td>\n",
       "      <td>1.166075</td>\n",
       "    </tr>\n",
       "    <tr>\n",
       "      <th>5907</th>\n",
       "      <td>16.540029</td>\n",
       "      <td>1.172771</td>\n",
       "    </tr>\n",
       "    <tr>\n",
       "      <th>5908</th>\n",
       "      <td>16.629036</td>\n",
       "      <td>1.166527</td>\n",
       "    </tr>\n",
       "    <tr>\n",
       "      <th>5909</th>\n",
       "      <td>16.535749</td>\n",
       "      <td>1.173145</td>\n",
       "    </tr>\n",
       "    <tr>\n",
       "      <th>5910</th>\n",
       "      <td>16.435476</td>\n",
       "      <td>1.180347</td>\n",
       "    </tr>\n",
       "  </tbody>\n",
       "</table>\n",
       "<p>5911 rows × 2 columns</p>\n",
       "</div>"
      ],
      "text/plain": [
       "      coin1_balance  coin2_balance\n",
       "0         11.645459       0.994511\n",
       "1         11.525198       1.004997\n",
       "2         11.434717       1.013013\n",
       "3         11.507526       1.006644\n",
       "4         11.586810       0.999803\n",
       "...             ...            ...\n",
       "5906      16.634456       1.166075\n",
       "5907      16.540029       1.172771\n",
       "5908      16.629036       1.166527\n",
       "5909      16.535749       1.173145\n",
       "5910      16.435476       1.180347\n",
       "\n",
       "[5911 rows x 2 columns]"
      ]
     },
     "execution_count": 21,
     "metadata": {},
     "output_type": "execute_result"
    }
   ],
   "source": [
    "pd.DataFrame(trades)"
   ]
  }
 ],
 "metadata": {
  "interpreter": {
   "hash": "afd0293f18b5e1192bb0add16b72f172f68b6f47073f18d855db381f5f85e603"
  },
  "kernelspec": {
   "display_name": "Python 3.10.2 ('.venv': venv)",
   "language": "python",
   "name": "python3"
  },
  "language_info": {
   "codemirror_mode": {
    "name": "ipython",
    "version": 3
   },
   "file_extension": ".py",
   "mimetype": "text/x-python",
   "name": "python",
   "nbconvert_exporter": "python",
   "pygments_lexer": "ipython3",
   "version": "3.10.2"
  },
  "orig_nbformat": 4
 },
 "nbformat": 4,
 "nbformat_minor": 2
}
