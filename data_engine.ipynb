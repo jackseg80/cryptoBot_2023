{
 "cells": [
  {
   "cell_type": "code",
   "execution_count": 3,
   "metadata": {},
   "outputs": [],
   "source": [
    "import sys\n",
    "sys.path.append('./')\n",
    "from utilities.data_manager import ExchangeDataManager\n",
    "import pandas as pd"
   ]
  },
  {
   "cell_type": "markdown",
   "metadata": {},
   "source": [
    "# Download Historical data into CSV in Database"
   ]
  },
  {
   "cell_type": "code",
   "execution_count": 4,
   "metadata": {},
   "outputs": [
    {
     "name": "stdout",
     "output_type": "stream",
     "text": [
      "\tRécupération pour la paire BTC/USDT en timeframe 1h sur l'exchange binance...\n",
      "\tDonnées déjà récupérées\n",
      "\tRécupération pour la paire BTC/USDT en timeframe 1h sur l'exchange binance...\n"
     ]
    },
    {
     "name": "stderr",
     "output_type": "stream",
     "text": [
      "d:\\Python\\Cryptobots\\backtest_tools\\utilities\\data_manager.py:239: UserWarning: Could not infer format, so each element will be parsed individually, falling back to `dateutil`. To ensure parsing is consistent and as-expected, please specify a format.\n",
      "  df = pd.read_csv(file_name, index_col=0, parse_dates=True)\n",
      "d:\\Python\\Cryptobots\\backtest_tools\\utilities\\data_manager.py:239: UserWarning: Could not infer format, so each element will be parsed individually, falling back to `dateutil`. To ensure parsing is consistent and as-expected, please specify a format.\n",
      "  df = pd.read_csv(file_name, index_col=0, parse_dates=True)\n",
      "d:\\Python\\Cryptobots\\backtest_tools\\utilities\\data_manager.py:239: UserWarning: Could not infer format, so each element will be parsed individually, falling back to `dateutil`. To ensure parsing is consistent and as-expected, please specify a format.\n",
      "  df = pd.read_csv(file_name, index_col=0, parse_dates=True)\n"
     ]
    },
    {
     "name": "stdout",
     "output_type": "stream",
     "text": [
      "\tDonnées déjà récupérées\n",
      "\tRécupération pour la paire ETH/USDT en timeframe 1h sur l'exchange binance...\n",
      "\tDonnées déjà récupérées\n",
      "\tRécupération pour la paire ADA/USDT en timeframe 1h sur l'exchange binance...\n"
     ]
    },
    {
     "name": "stderr",
     "output_type": "stream",
     "text": [
      "d:\\Python\\Cryptobots\\backtest_tools\\utilities\\data_manager.py:239: UserWarning: Could not infer format, so each element will be parsed individually, falling back to `dateutil`. To ensure parsing is consistent and as-expected, please specify a format.\n",
      "  df = pd.read_csv(file_name, index_col=0, parse_dates=True)\n",
      "d:\\Python\\Cryptobots\\backtest_tools\\utilities\\data_manager.py:239: UserWarning: Could not infer format, so each element will be parsed individually, falling back to `dateutil`. To ensure parsing is consistent and as-expected, please specify a format.\n",
      "  df = pd.read_csv(file_name, index_col=0, parse_dates=True)\n",
      "d:\\Python\\Cryptobots\\backtest_tools\\utilities\\data_manager.py:239: UserWarning: Could not infer format, so each element will be parsed individually, falling back to `dateutil`. To ensure parsing is consistent and as-expected, please specify a format.\n",
      "  df = pd.read_csv(file_name, index_col=0, parse_dates=True)\n"
     ]
    },
    {
     "name": "stdout",
     "output_type": "stream",
     "text": [
      "\tDonnées déjà récupérées\n",
      "\tRécupération pour la paire AVAX/USDT en timeframe 1h sur l'exchange binance...\n",
      "\tDonnées déjà récupérées\n",
      "\tRécupération pour la paire EGLD/USDT en timeframe 1h sur l'exchange binance...\n",
      "\tDonnées déjà récupérées\n",
      "\tRécupération pour la paire KSM/USDT en timeframe 1h sur l'exchange binance...\n",
      "\tDonnées déjà récupérées\n",
      "\tRécupération pour la paire OCEAN/USDT en timeframe 1h sur l'exchange binance...\n"
     ]
    },
    {
     "name": "stderr",
     "output_type": "stream",
     "text": [
      "d:\\Python\\Cryptobots\\backtest_tools\\utilities\\data_manager.py:239: UserWarning: Could not infer format, so each element will be parsed individually, falling back to `dateutil`. To ensure parsing is consistent and as-expected, please specify a format.\n",
      "  df = pd.read_csv(file_name, index_col=0, parse_dates=True)\n"
     ]
    },
    {
     "data": {
      "application/vnd.jupyter.widget-view+json": {
       "model_id": "1bd93bba534049d78557365c775340cd",
       "version_major": 2,
       "version_minor": 0
      },
      "text/plain": [
       "  0%|          | 0/62 [00:00<?, ?it/s]"
      ]
     },
     "metadata": {},
     "output_type": "display_data"
    },
    {
     "name": "stdout",
     "output_type": "stream",
     "text": [
      "\tRécupération pour la paire REN/USDT en timeframe 1h sur l'exchange binance...\n"
     ]
    },
    {
     "data": {
      "application/vnd.jupyter.widget-view+json": {
       "model_id": "b140aa7bc41e46748cd292fda446d678",
       "version_major": 2,
       "version_minor": 0
      },
      "text/plain": [
       "  0%|          | 0/62 [00:00<?, ?it/s]"
      ]
     },
     "metadata": {},
     "output_type": "display_data"
    },
    {
     "name": "stdout",
     "output_type": "stream",
     "text": [
      "\tRécupération pour la paire ACH/USDT en timeframe 1h sur l'exchange binance...\n"
     ]
    },
    {
     "data": {
      "application/vnd.jupyter.widget-view+json": {
       "model_id": "bcc819b8c42b477093233dffca551c03",
       "version_major": 2,
       "version_minor": 0
      },
      "text/plain": [
       "  0%|          | 0/62 [00:00<?, ?it/s]"
      ]
     },
     "metadata": {},
     "output_type": "display_data"
    },
    {
     "name": "stdout",
     "output_type": "stream",
     "text": [
      "\tRécupération pour la paire APE/USDT en timeframe 1h sur l'exchange binance...\n",
      "\tDonnées déjà récupérées\n",
      "\tRécupération pour la paire CRV/USDT en timeframe 1h sur l'exchange binance...\n",
      "\tDonnées déjà récupérées\n",
      "\tRécupération pour la paire DOGE/USDT en timeframe 1h sur l'exchange binance...\n"
     ]
    },
    {
     "name": "stderr",
     "output_type": "stream",
     "text": [
      "d:\\Python\\Cryptobots\\backtest_tools\\utilities\\data_manager.py:239: UserWarning: Could not infer format, so each element will be parsed individually, falling back to `dateutil`. To ensure parsing is consistent and as-expected, please specify a format.\n",
      "  df = pd.read_csv(file_name, index_col=0, parse_dates=True)\n",
      "d:\\Python\\Cryptobots\\backtest_tools\\utilities\\data_manager.py:239: UserWarning: Could not infer format, so each element will be parsed individually, falling back to `dateutil`. To ensure parsing is consistent and as-expected, please specify a format.\n",
      "  df = pd.read_csv(file_name, index_col=0, parse_dates=True)\n",
      "d:\\Python\\Cryptobots\\backtest_tools\\utilities\\data_manager.py:239: UserWarning: Could not infer format, so each element will be parsed individually, falling back to `dateutil`. To ensure parsing is consistent and as-expected, please specify a format.\n",
      "  df = pd.read_csv(file_name, index_col=0, parse_dates=True)\n"
     ]
    },
    {
     "name": "stdout",
     "output_type": "stream",
     "text": [
      "\tDonnées déjà récupérées\n",
      "\tRécupération pour la paire ENJ/USDT en timeframe 1h sur l'exchange binance...\n"
     ]
    },
    {
     "data": {
      "application/vnd.jupyter.widget-view+json": {
       "model_id": "f89f28e26b7e47e79583cc1dbe2a6f7f",
       "version_major": 2,
       "version_minor": 0
      },
      "text/plain": [
       "  0%|          | 0/62 [00:00<?, ?it/s]"
      ]
     },
     "metadata": {},
     "output_type": "display_data"
    },
    {
     "name": "stdout",
     "output_type": "stream",
     "text": [
      "\tRécupération pour la paire FET/USDT en timeframe 1h sur l'exchange binance...\n"
     ]
    },
    {
     "data": {
      "application/vnd.jupyter.widget-view+json": {
       "model_id": "c5ab2ead4db04dc3a9cf50dfd70d73d7",
       "version_major": 2,
       "version_minor": 0
      },
      "text/plain": [
       "  0%|          | 0/62 [00:00<?, ?it/s]"
      ]
     },
     "metadata": {},
     "output_type": "display_data"
    },
    {
     "name": "stdout",
     "output_type": "stream",
     "text": [
      "\tRécupération pour la paire ICP/USDT en timeframe 1h sur l'exchange binance...\n"
     ]
    },
    {
     "data": {
      "application/vnd.jupyter.widget-view+json": {
       "model_id": "a48400b531c44eb783557729ffbe09a2",
       "version_major": 2,
       "version_minor": 0
      },
      "text/plain": [
       "  0%|          | 0/62 [00:00<?, ?it/s]"
      ]
     },
     "metadata": {},
     "output_type": "display_data"
    },
    {
     "name": "stdout",
     "output_type": "stream",
     "text": [
      "\tRécupération pour la paire IMX/USDT en timeframe 1h sur l'exchange binance...\n"
     ]
    },
    {
     "data": {
      "application/vnd.jupyter.widget-view+json": {
       "model_id": "f04a26db788d4046b05356b4fa3cb9c5",
       "version_major": 2,
       "version_minor": 0
      },
      "text/plain": [
       "  0%|          | 0/62 [00:00<?, ?it/s]"
      ]
     },
     "metadata": {},
     "output_type": "display_data"
    },
    {
     "name": "stdout",
     "output_type": "stream",
     "text": [
      "\tRécupération pour la paire LDO/USDT en timeframe 1h sur l'exchange binance...\n"
     ]
    },
    {
     "data": {
      "application/vnd.jupyter.widget-view+json": {
       "model_id": "30216d81268546f4bf8cf0af1f356027",
       "version_major": 2,
       "version_minor": 0
      },
      "text/plain": [
       "  0%|          | 0/62 [00:00<?, ?it/s]"
      ]
     },
     "metadata": {},
     "output_type": "display_data"
    },
    {
     "name": "stdout",
     "output_type": "stream",
     "text": [
      "\tRécupération pour la paire MAGIC/USDT en timeframe 1h sur l'exchange binance...\n"
     ]
    },
    {
     "data": {
      "application/vnd.jupyter.widget-view+json": {
       "model_id": "5433ea99c7024ad49ad35fd4a0db4227",
       "version_major": 2,
       "version_minor": 0
      },
      "text/plain": [
       "  0%|          | 0/62 [00:00<?, ?it/s]"
      ]
     },
     "metadata": {},
     "output_type": "display_data"
    },
    {
     "name": "stdout",
     "output_type": "stream",
     "text": [
      "\tRécupération pour la paire REEF/USDT en timeframe 1h sur l'exchange binance...\n"
     ]
    },
    {
     "data": {
      "application/vnd.jupyter.widget-view+json": {
       "model_id": "371de8a234194c5f8a5fdb13bb3b6682",
       "version_major": 2,
       "version_minor": 0
      },
      "text/plain": [
       "  0%|          | 0/62 [00:00<?, ?it/s]"
      ]
     },
     "metadata": {},
     "output_type": "display_data"
    },
    {
     "name": "stdout",
     "output_type": "stream",
     "text": [
      "\tRécupération pour la paire SAND/USDT en timeframe 1h sur l'exchange binance...\n",
      "\tDonnées déjà récupérées\n",
      "\tRécupération pour la paire TRX/USDT en timeframe 1h sur l'exchange binance...\n"
     ]
    },
    {
     "name": "stderr",
     "output_type": "stream",
     "text": [
      "d:\\Python\\Cryptobots\\backtest_tools\\utilities\\data_manager.py:239: UserWarning: Could not infer format, so each element will be parsed individually, falling back to `dateutil`. To ensure parsing is consistent and as-expected, please specify a format.\n",
      "  df = pd.read_csv(file_name, index_col=0, parse_dates=True)\n",
      "d:\\Python\\Cryptobots\\backtest_tools\\utilities\\data_manager.py:239: UserWarning: Could not infer format, so each element will be parsed individually, falling back to `dateutil`. To ensure parsing is consistent and as-expected, please specify a format.\n",
      "  df = pd.read_csv(file_name, index_col=0, parse_dates=True)\n"
     ]
    },
    {
     "data": {
      "application/vnd.jupyter.widget-view+json": {
       "model_id": "088df27c12a94f7b8d47a52619078c8e",
       "version_major": 2,
       "version_minor": 0
      },
      "text/plain": [
       "  0%|          | 0/7 [00:00<?, ?it/s]"
      ]
     },
     "metadata": {},
     "output_type": "display_data"
    },
    {
     "name": "stdout",
     "output_type": "stream",
     "text": [
      "\tRécupération pour la paire XTZ/USDT en timeframe 1h sur l'exchange binance...\n"
     ]
    },
    {
     "data": {
      "application/vnd.jupyter.widget-view+json": {
       "model_id": "a7a462c2959a481a9aba20e09f1536f4",
       "version_major": 2,
       "version_minor": 0
      },
      "text/plain": [
       "  0%|          | 0/62 [00:00<?, ?it/s]"
      ]
     },
     "metadata": {},
     "output_type": "display_data"
    }
   ],
   "source": [
    "exchange_name = \"binance\"\n",
    "# exchange_name = \"bitget\"\n",
    "\n",
    "intervals = [\"1h\"]\n",
    "\n",
    "# coin_to_dl = [\n",
    "#     \"BTC/USDT:USDT\", \"BTC/USDT:USDT\", \"ETH/USDT:USDT\", \"ADA/USDT:USDT\", \"AVAX/USDT:USDT\", \"EGLD/USDT:USDT\",\n",
    "#     \"KSM/USDT:USDT\", \"OCEAN/USDT:USDT\", \"REN/USDT:USDT\", \"ACH/USDT:USDT\", \"APE/USDT:USDT\",\n",
    "#     \"CRV/USDT:USDT\", \"DOGE/USDT:USDT\", \"ENJ/USDT:USDT\", \"FET/USDT:USDT\", \"ICP/USDT:USDT\",\n",
    "#     \"IMX/USDT:USDT\", \"LDO/USDT:USDT\", \"MAGIC/USDT:USDT\", \"REEF/USDT:USDT\", \"SAND/USDT:USDT\",\n",
    "#     \"TRX/USDT:USDT\",\"XTZ/USDT:USDT\",\n",
    "# ]\n",
    "\n",
    "coin_to_dl = [\n",
    "    \"BTC/USDT\", \"BTC/USDT\", \"ETH/USDT\", \"ADA/USDT\", \"AVAX/USDT\", \"EGLD/USDT\",\n",
    "    \"KSM/USDT\", \"OCEAN/USDT\", \"REN/USDT\", \"ACH/USDT\", \"APE/USDT\",\n",
    "    \"CRV/USDT\", \"DOGE/USDT\", \"ENJ/USDT\", \"FET/USDT\", \"ICP/USDT\",\n",
    "    \"IMX/USDT\", \"LDO/USDT\", \"MAGIC/USDT\", \"REEF/USDT\", \"SAND/USDT\",\n",
    "    \"TRX/USDT\",\"XTZ/USDT\",\n",
    "]\n",
    "\n",
    "exchange = ExchangeDataManager(\n",
    "    exchange_name=exchange_name, path_download=\"./database/exchanges\"\n",
    ")\n",
    "\n",
    "await exchange.download_data(\n",
    "    coins=coin_to_dl,\n",
    "    intervals=intervals,\n",
    ")"
   ]
  },
  {
   "cell_type": "markdown",
   "metadata": {},
   "source": [
    "# Get Historical Data From Database"
   ]
  },
  {
   "cell_type": "code",
   "execution_count": 4,
   "metadata": {},
   "outputs": [
    {
     "name": "stderr",
     "output_type": "stream",
     "text": [
      "d:\\Python\\Cryptobots\\backtest_tools\\utilities\\data_manager.py:116: UserWarning: Could not infer format, so each element will be parsed individually, falling back to `dateutil`. To ensure parsing is consistent and as-expected, please specify a format.\n",
      "  df = pd.read_csv(file_name, index_col=0, parse_dates=True)\n"
     ]
    },
    {
     "data": {
      "text/html": [
       "<div>\n",
       "<style scoped>\n",
       "    .dataframe tbody tr th:only-of-type {\n",
       "        vertical-align: middle;\n",
       "    }\n",
       "\n",
       "    .dataframe tbody tr th {\n",
       "        vertical-align: top;\n",
       "    }\n",
       "\n",
       "    .dataframe thead th {\n",
       "        text-align: right;\n",
       "    }\n",
       "</style>\n",
       "<table border=\"1\" class=\"dataframe\">\n",
       "  <thead>\n",
       "    <tr style=\"text-align: right;\">\n",
       "      <th></th>\n",
       "      <th>open</th>\n",
       "      <th>high</th>\n",
       "      <th>low</th>\n",
       "      <th>close</th>\n",
       "      <th>volume</th>\n",
       "    </tr>\n",
       "    <tr>\n",
       "      <th>date</th>\n",
       "      <th></th>\n",
       "      <th></th>\n",
       "      <th></th>\n",
       "      <th></th>\n",
       "      <th></th>\n",
       "    </tr>\n",
       "  </thead>\n",
       "  <tbody>\n",
       "    <tr>\n",
       "      <th>2023-10-07 21:00:00</th>\n",
       "      <td>1632.24</td>\n",
       "      <td>1633.17</td>\n",
       "      <td>1630.24</td>\n",
       "      <td>1632.63</td>\n",
       "      <td>10784.28</td>\n",
       "    </tr>\n",
       "    <tr>\n",
       "      <th>2023-10-07 22:00:00</th>\n",
       "      <td>1632.63</td>\n",
       "      <td>1634.40</td>\n",
       "      <td>1632.63</td>\n",
       "      <td>1634.07</td>\n",
       "      <td>14772.19</td>\n",
       "    </tr>\n",
       "    <tr>\n",
       "      <th>2023-10-07 23:00:00</th>\n",
       "      <td>1634.07</td>\n",
       "      <td>1634.93</td>\n",
       "      <td>1632.29</td>\n",
       "      <td>1632.67</td>\n",
       "      <td>10419.15</td>\n",
       "    </tr>\n",
       "    <tr>\n",
       "      <th>2023-10-08 00:00:00</th>\n",
       "      <td>1632.67</td>\n",
       "      <td>1637.15</td>\n",
       "      <td>1632.42</td>\n",
       "      <td>1635.61</td>\n",
       "      <td>13037.42</td>\n",
       "    </tr>\n",
       "    <tr>\n",
       "      <th>2023-10-08 01:00:00</th>\n",
       "      <td>1635.61</td>\n",
       "      <td>1638.60</td>\n",
       "      <td>1634.17</td>\n",
       "      <td>1638.59</td>\n",
       "      <td>13785.70</td>\n",
       "    </tr>\n",
       "    <tr>\n",
       "      <th>...</th>\n",
       "      <td>...</td>\n",
       "      <td>...</td>\n",
       "      <td>...</td>\n",
       "      <td>...</td>\n",
       "      <td>...</td>\n",
       "    </tr>\n",
       "    <tr>\n",
       "      <th>2024-01-07 04:00:00</th>\n",
       "      <td>2241.31</td>\n",
       "      <td>2248.08</td>\n",
       "      <td>2241.31</td>\n",
       "      <td>2247.94</td>\n",
       "      <td>36081.85</td>\n",
       "    </tr>\n",
       "    <tr>\n",
       "      <th>2024-01-07 05:00:00</th>\n",
       "      <td>2247.94</td>\n",
       "      <td>2249.90</td>\n",
       "      <td>2240.62</td>\n",
       "      <td>2242.24</td>\n",
       "      <td>38467.84</td>\n",
       "    </tr>\n",
       "    <tr>\n",
       "      <th>2024-01-07 06:00:00</th>\n",
       "      <td>2242.24</td>\n",
       "      <td>2250.32</td>\n",
       "      <td>2240.30</td>\n",
       "      <td>2249.00</td>\n",
       "      <td>35921.99</td>\n",
       "    </tr>\n",
       "    <tr>\n",
       "      <th>2024-01-07 07:00:00</th>\n",
       "      <td>2249.00</td>\n",
       "      <td>2250.96</td>\n",
       "      <td>2245.17</td>\n",
       "      <td>2248.21</td>\n",
       "      <td>25519.71</td>\n",
       "    </tr>\n",
       "    <tr>\n",
       "      <th>2024-01-07 08:00:00</th>\n",
       "      <td>2248.21</td>\n",
       "      <td>2252.56</td>\n",
       "      <td>2238.08</td>\n",
       "      <td>2239.37</td>\n",
       "      <td>30001.81</td>\n",
       "    </tr>\n",
       "  </tbody>\n",
       "</table>\n",
       "<p>2177 rows × 5 columns</p>\n",
       "</div>"
      ],
      "text/plain": [
       "                        open     high      low    close    volume\n",
       "date                                                             \n",
       "2023-10-07 21:00:00  1632.24  1633.17  1630.24  1632.63  10784.28\n",
       "2023-10-07 22:00:00  1632.63  1634.40  1632.63  1634.07  14772.19\n",
       "2023-10-07 23:00:00  1634.07  1634.93  1632.29  1632.67  10419.15\n",
       "2023-10-08 00:00:00  1632.67  1637.15  1632.42  1635.61  13037.42\n",
       "2023-10-08 01:00:00  1635.61  1638.60  1634.17  1638.59  13785.70\n",
       "...                      ...      ...      ...      ...       ...\n",
       "2024-01-07 04:00:00  2241.31  2248.08  2241.31  2247.94  36081.85\n",
       "2024-01-07 05:00:00  2247.94  2249.90  2240.62  2242.24  38467.84\n",
       "2024-01-07 06:00:00  2242.24  2250.32  2240.30  2249.00  35921.99\n",
       "2024-01-07 07:00:00  2249.00  2250.96  2245.17  2248.21  25519.71\n",
       "2024-01-07 08:00:00  2248.21  2252.56  2238.08  2239.37  30001.81\n",
       "\n",
       "[2177 rows x 5 columns]"
      ]
     },
     "execution_count": 4,
     "metadata": {},
     "output_type": "execute_result"
    }
   ],
   "source": [
    "exchange_name = \"bitget\"\n",
    "\n",
    "exchange = ExchangeDataManager(\n",
    "    exchange_name=exchange_name, \n",
    "    path_download=\"./database/exchanges\"\n",
    ")\n",
    "\n",
    "df = exchange.load_data(\n",
    "    coin=\"ETH/USDT:USDT\", \n",
    "    interval=\"1h\"\n",
    ")\n",
    "\n",
    "df"
   ]
  },
  {
   "cell_type": "code",
   "execution_count": 5,
   "metadata": {},
   "outputs": [
    {
     "data": {
      "text/html": [
       "<div>\n",
       "<style scoped>\n",
       "    .dataframe tbody tr th:only-of-type {\n",
       "        vertical-align: middle;\n",
       "    }\n",
       "\n",
       "    .dataframe tbody tr th {\n",
       "        vertical-align: top;\n",
       "    }\n",
       "\n",
       "    .dataframe thead th {\n",
       "        text-align: right;\n",
       "    }\n",
       "</style>\n",
       "<table border=\"1\" class=\"dataframe\">\n",
       "  <thead>\n",
       "    <tr style=\"text-align: right;\">\n",
       "      <th></th>\n",
       "      <th>exchange</th>\n",
       "      <th>timeframe</th>\n",
       "      <th>pair</th>\n",
       "      <th>occurences</th>\n",
       "      <th>start_date</th>\n",
       "      <th>end_date</th>\n",
       "    </tr>\n",
       "  </thead>\n",
       "  <tbody>\n",
       "    <tr>\n",
       "      <th>0</th>\n",
       "      <td>binance</td>\n",
       "      <td>15m</td>\n",
       "      <td>AAVE-USDT</td>\n",
       "      <td>88586</td>\n",
       "      <td>2020-10-15 05:00:00</td>\n",
       "      <td>2023-04-26 18:15:00</td>\n",
       "    </tr>\n",
       "    <tr>\n",
       "      <th>1</th>\n",
       "      <td>binance</td>\n",
       "      <td>15m</td>\n",
       "      <td>ADA-USDT</td>\n",
       "      <td>175839</td>\n",
       "      <td>2018-04-17 06:00:00</td>\n",
       "      <td>2023-04-26 18:15:00</td>\n",
       "    </tr>\n",
       "    <tr>\n",
       "      <th>2</th>\n",
       "      <td>binance</td>\n",
       "      <td>15m</td>\n",
       "      <td>APE-USDT</td>\n",
       "      <td>38901</td>\n",
       "      <td>2022-03-17 15:30:00</td>\n",
       "      <td>2023-04-26 18:15:00</td>\n",
       "    </tr>\n",
       "    <tr>\n",
       "      <th>3</th>\n",
       "      <td>binance</td>\n",
       "      <td>15m</td>\n",
       "      <td>ATOM-USDT</td>\n",
       "      <td>139790</td>\n",
       "      <td>2019-04-29 06:00:00</td>\n",
       "      <td>2023-04-26 18:15:00</td>\n",
       "    </tr>\n",
       "    <tr>\n",
       "      <th>4</th>\n",
       "      <td>binance</td>\n",
       "      <td>15m</td>\n",
       "      <td>AVAX-USDT</td>\n",
       "      <td>90780</td>\n",
       "      <td>2020-09-22 08:30:00</td>\n",
       "      <td>2023-04-26 18:15:00</td>\n",
       "    </tr>\n",
       "    <tr>\n",
       "      <th>...</th>\n",
       "      <td>...</td>\n",
       "      <td>...</td>\n",
       "      <td>...</td>\n",
       "      <td>...</td>\n",
       "      <td>...</td>\n",
       "      <td>...</td>\n",
       "    </tr>\n",
       "    <tr>\n",
       "      <th>293</th>\n",
       "      <td>bitget</td>\n",
       "      <td>1h</td>\n",
       "      <td>REEF-USDT-USDT</td>\n",
       "      <td>100</td>\n",
       "      <td>2023-12-24 08:00:00</td>\n",
       "      <td>2023-12-28 11:00:00</td>\n",
       "    </tr>\n",
       "    <tr>\n",
       "      <th>294</th>\n",
       "      <td>bitget</td>\n",
       "      <td>1h</td>\n",
       "      <td>REN-USDT-USDT</td>\n",
       "      <td>100</td>\n",
       "      <td>2023-12-24 08:00:00</td>\n",
       "      <td>2023-12-28 11:00:00</td>\n",
       "    </tr>\n",
       "    <tr>\n",
       "      <th>295</th>\n",
       "      <td>bitget</td>\n",
       "      <td>1h</td>\n",
       "      <td>SAND-USDT-USDT</td>\n",
       "      <td>100</td>\n",
       "      <td>2023-12-24 08:00:00</td>\n",
       "      <td>2023-12-28 11:00:00</td>\n",
       "    </tr>\n",
       "    <tr>\n",
       "      <th>296</th>\n",
       "      <td>bitget</td>\n",
       "      <td>1h</td>\n",
       "      <td>TRX-USDT-USDT</td>\n",
       "      <td>100</td>\n",
       "      <td>2023-12-24 08:00:00</td>\n",
       "      <td>2023-12-28 11:00:00</td>\n",
       "    </tr>\n",
       "    <tr>\n",
       "      <th>297</th>\n",
       "      <td>bitget</td>\n",
       "      <td>1h</td>\n",
       "      <td>XTZ-USDT-USDT</td>\n",
       "      <td>100</td>\n",
       "      <td>2023-12-24 08:00:00</td>\n",
       "      <td>2023-12-28 11:00:00</td>\n",
       "    </tr>\n",
       "  </tbody>\n",
       "</table>\n",
       "<p>298 rows × 6 columns</p>\n",
       "</div>"
      ],
      "text/plain": [
       "    exchange timeframe            pair  occurences           start_date   \n",
       "0    binance       15m       AAVE-USDT       88586  2020-10-15 05:00:00  \\\n",
       "1    binance       15m        ADA-USDT      175839  2018-04-17 06:00:00   \n",
       "2    binance       15m        APE-USDT       38901  2022-03-17 15:30:00   \n",
       "3    binance       15m       ATOM-USDT      139790  2019-04-29 06:00:00   \n",
       "4    binance       15m       AVAX-USDT       90780  2020-09-22 08:30:00   \n",
       "..       ...       ...             ...         ...                  ...   \n",
       "293   bitget        1h  REEF-USDT-USDT         100  2023-12-24 08:00:00   \n",
       "294   bitget        1h   REN-USDT-USDT         100  2023-12-24 08:00:00   \n",
       "295   bitget        1h  SAND-USDT-USDT         100  2023-12-24 08:00:00   \n",
       "296   bitget        1h   TRX-USDT-USDT         100  2023-12-24 08:00:00   \n",
       "297   bitget        1h   XTZ-USDT-USDT         100  2023-12-24 08:00:00   \n",
       "\n",
       "                end_date  \n",
       "0    2023-04-26 18:15:00  \n",
       "1    2023-04-26 18:15:00  \n",
       "2    2023-04-26 18:15:00  \n",
       "3    2023-04-26 18:15:00  \n",
       "4    2023-04-26 18:15:00  \n",
       "..                   ...  \n",
       "293  2023-12-28 11:00:00  \n",
       "294  2023-12-28 11:00:00  \n",
       "295  2023-12-28 11:00:00  \n",
       "296  2023-12-28 11:00:00  \n",
       "297  2023-12-28 11:00:00  \n",
       "\n",
       "[298 rows x 6 columns]"
      ]
     },
     "execution_count": 5,
     "metadata": {},
     "output_type": "execute_result"
    }
   ],
   "source": [
    "exchange.explore_data()"
   ]
  }
 ],
 "metadata": {
  "kernelspec": {
   "display_name": "Python 3.10.2 ('.venv': venv)",
   "language": "python",
   "name": "python3"
  },
  "language_info": {
   "codemirror_mode": {
    "name": "ipython",
    "version": 3
   },
   "file_extension": ".py",
   "mimetype": "text/x-python",
   "name": "python",
   "nbconvert_exporter": "python",
   "pygments_lexer": "ipython3",
   "version": "3.11.7"
  },
  "vscode": {
   "interpreter": {
    "hash": "d5100c10c6b669a578e86ed43dbb636d25e3c9fb9ee424ec9e5e4bad34e2e434"
   }
  }
 },
 "nbformat": 4,
 "nbformat_minor": 2
}
