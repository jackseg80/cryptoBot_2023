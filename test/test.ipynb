{
 "cells": [
  {
   "cell_type": "code",
   "execution_count": 3,
   "metadata": {},
   "outputs": [
    {
     "name": "stdout",
     "output_type": "stream",
     "text": [
      "1.13 ms ± 2.04 µs per loop (mean ± std. dev. of 7 runs, 1,000 loops each)\n"
     ]
    }
   ],
   "source": [
    "import numpy as np\n",
    "\n",
    "def f(arr):\n",
    "  res=np.zeros(len(arr))\n",
    "   \n",
    "  for i in range(len(arr)):\n",
    "     res[i]=(arr[i])**2\n",
    "    \n",
    "  return res\n",
    "\n",
    "arr=np.random.rand(10000)\n",
    "%timeit f(arr)"
   ]
  },
  {
   "cell_type": "code",
   "execution_count": 4,
   "metadata": {},
   "outputs": [
    {
     "name": "stdout",
     "output_type": "stream",
     "text": [
      "1.14 ms ± 2.46 µs per loop (mean ± std. dev. of 7 runs, 1,000 loops each)\n"
     ]
    }
   ],
   "source": [
    "import numpy as np\n",
    "import numba as nb\n",
    "\n",
    "@nb.jit(nopython=True)\n",
    "def nb_vec_f(arr):\n",
    "   res=np.zeros(len(arr))\n",
    "\n",
    "   for i in range(len(arr)):\n",
    "       res[i]=(arr[i])**2\n",
    "\n",
    "   return res\n",
    "\n",
    "arr=np.random.rand(10000)\n",
    "%timeit f(arr)"
   ]
  }
 ],
 "metadata": {
  "kernelspec": {
   "display_name": ".venv",
   "language": "python",
   "name": "python3"
  },
  "language_info": {
   "codemirror_mode": {
    "name": "ipython",
    "version": 3
   },
   "file_extension": ".py",
   "mimetype": "text/x-python",
   "name": "python",
   "nbconvert_exporter": "python",
   "pygments_lexer": "ipython3",
   "version": "3.11.7"
  }
 },
 "nbformat": 4,
 "nbformat_minor": 2
}
