{
 "cells": [
  {
   "cell_type": "code",
   "execution_count": 19,
   "metadata": {},
   "outputs": [],
   "source": [
    "import sys\n",
    "sys.path.append('..')\n",
    "import pandas as pd\n",
    "pd.options.mode.chained_assignment = None  # default='warn'\n",
    "import matplotlib.pyplot as plt\n",
    "import ta\n",
    "import numpy as np\n",
    "import datetime\n",
    "import seaborn as sns\n",
    "from IPython.display import clear_output\n",
    "from constants.coin_list import COIN_LIST\n",
    "from utilities.data_manager import ExchangeDataManager\n",
    "from utilities.custom_indicators import get_n_columns\n",
    "from utilities.bt_analysis import sa_backtest_analysis, get_metrics\n",
    "from utilities.plot_analysis import plot_bar_by_month, plot_equity_vs_asset, plot_trade_analysis\n",
    "import pandas_market_calendars as mcal"
   ]
  },
  {
   "cell_type": "code",
   "execution_count": 20,
   "metadata": {},
   "outputs": [],
   "source": [
    "exchange_name = \"binance\"\n",
    "pair = \"BTC/USDT\"\n",
    "tf = \"1h\"\n",
    "\n",
    "exchange = ExchangeDataManager(\n",
    "    exchange_name=exchange_name, \n",
    "    path_download=\"../database/exchanges\"\n",
    ")\n",
    "\n",
    "df = exchange.load_data(\n",
    "    coin=pair, \n",
    "    interval=tf\n",
    ")\n",
    "\n",
    "# df = df.reset_index()\n",
    "df[\"date\"] = df.index.values\n",
    "\n",
    "df[\"year\"] = df[\"date\"].dt.year\n",
    "df[\"month_name\"] = df[\"date\"].dt.month_name()\n",
    "df[\"month\"] = df[\"date\"].dt.month - 1\n",
    "df[\"day\"] = df[\"date\"].dt.day_of_week\n",
    "df[\"hour\"] = df[\"date\"].dt.hour\n",
    "\n",
    "df[\"usd_volume\"] = df[\"volume\"] * df[\"close\"]\n",
    "df[\"return\"] = df[\"close\"] - df[\"open\"]\n",
    "df[\"return_pct\"] = ((df[\"close\"] - df[\"open\"]) / df[\"open\"]) * 100\n",
    "df[\"volatility\"] = df[\"high\"] - df[\"low\"]\n",
    "df[\"volatility_pct\"] = ((df[\"high\"] - df[\"low\"]) / df[\"low\"]) * 100\n",
    "\n",
    "df[\"return\"] = df[\"close\"] - df[\"open\"]\n",
    "df[\"return_pct\"] = ((df[\"close\"] - df[\"open\"]) / df[\"open\"]) * 100\n",
    "\n",
    "for stock_ex in [\"EUREX\", \"JPX\", \"SSE\", \"NYSE\"]:\n",
    "    nyse = mcal.get_calendar(stock_ex)\n",
    "    schedule = nyse.schedule(start_date='2017-01-01', end_date='2022-09-26')\n",
    "    df[\"market_open\"] = schedule[\"market_open\"]\n",
    "    df[\"market_close\"] = schedule[\"market_close\"]\n",
    "    df.loc[df[\"market_open\"] == \"NaT\", \"market_open\"] = np.nan\n",
    "    df.loc[df[\"market_close\"] == \"NaT\", \"market_close\"] = np.nan\n",
    "    df[\"market_open\"].fillna(method='ffill', inplace=True)\n",
    "    df[\"market_close\"].fillna(method='ffill', inplace=True)\n",
    "    df[\"market_open\"] = df[\"market_open\"].apply(lambda x: x.tz_convert(None))\n",
    "    df[\"market_close\"] = df[\"market_close\"].apply(lambda x: x.tz_convert(None))\n",
    "    df[stock_ex + \"_open\"] = False\n",
    "    df.loc[(df[\"date\"] > df[\"market_open\"]) & (df[\"date\"] < df[\"market_close\"]), stock_ex + \"_open\"] = True\n",
    "    del df[\"market_close\"]\n",
    "    del df[\"market_open\"]\n",
    "\n",
    "# df.loc[(df[\"date\"] > df[\"market_open\"]) & (df[\"date\"] < df[\"market_close\"]), \"NYSE_open\"] = True\n",
    "# df.loc[df[\"NYSE_open\"] == True]"
   ]
  },
  {
   "cell_type": "code",
   "execution_count": 22,
   "metadata": {},
   "outputs": [
    {
     "data": {
      "text/html": [
       "<div>\n",
       "<style scoped>\n",
       "    .dataframe tbody tr th:only-of-type {\n",
       "        vertical-align: middle;\n",
       "    }\n",
       "\n",
       "    .dataframe tbody tr th {\n",
       "        vertical-align: top;\n",
       "    }\n",
       "\n",
       "    .dataframe thead th {\n",
       "        text-align: right;\n",
       "    }\n",
       "</style>\n",
       "<table border=\"1\" class=\"dataframe\">\n",
       "  <thead>\n",
       "    <tr style=\"text-align: right;\">\n",
       "      <th></th>\n",
       "      <th>return_pct</th>\n",
       "    </tr>\n",
       "    <tr>\n",
       "      <th>hour</th>\n",
       "      <th></th>\n",
       "    </tr>\n",
       "  </thead>\n",
       "  <tbody>\n",
       "    <tr>\n",
       "      <th>14</th>\n",
       "      <td>-0.037425</td>\n",
       "    </tr>\n",
       "    <tr>\n",
       "      <th>15</th>\n",
       "      <td>0.058767</td>\n",
       "    </tr>\n",
       "    <tr>\n",
       "      <th>16</th>\n",
       "      <td>-0.008461</td>\n",
       "    </tr>\n",
       "    <tr>\n",
       "      <th>17</th>\n",
       "      <td>-0.039134</td>\n",
       "    </tr>\n",
       "    <tr>\n",
       "      <th>18</th>\n",
       "      <td>-0.007067</td>\n",
       "    </tr>\n",
       "    <tr>\n",
       "      <th>19</th>\n",
       "      <td>0.040310</td>\n",
       "    </tr>\n",
       "    <tr>\n",
       "      <th>20</th>\n",
       "      <td>0.031842</td>\n",
       "    </tr>\n",
       "  </tbody>\n",
       "</table>\n",
       "</div>"
      ],
      "text/plain": [
       "      return_pct\n",
       "hour            \n",
       "14     -0.037425\n",
       "15      0.058767\n",
       "16     -0.008461\n",
       "17     -0.039134\n",
       "18     -0.007067\n",
       "19      0.040310\n",
       "20      0.031842"
      ]
     },
     "execution_count": 22,
     "metadata": {},
     "output_type": "execute_result"
    }
   ],
   "source": [
    "grouper = \"hour\"\n",
    "analyser = \"return_pct\"\n",
    "dt = pd.DataFrame(df.loc[df[\"NYSE_open\"] == True].groupby(grouper)[analyser].mean().sort_index())\n",
    "dt"
   ]
  },
  {
   "cell_type": "code",
   "execution_count": 23,
   "metadata": {},
   "outputs": [
    {
     "name": "stdout",
     "output_type": "stream",
     "text": [
      "--- Data since 2021 ---\n"
     ]
    },
    {
     "data": {
      "image/png": "[encoded data removed]",
      "text/plain": [
       "<Figure size 1440x360 with 1 Axes>"
      ]
     },
     "metadata": {
      "needs_background": "light"
     },
     "output_type": "display_data"
    },
    {
     "name": "stdout",
     "output_type": "stream",
     "text": [
      "--- Data until 2020 ---\n"
     ]
    },
    {
     "data": {
      "image/png": "[encoded data removed]",
      "text/plain": [
       "<Figure size 1440x360 with 1 Axes>"
      ]
     },
     "metadata": {
      "needs_background": "light"
     },
     "output_type": "display_data"
    }
   ],
   "source": [
    "grouper = \"day\" # hour day month EUREX_open JPX_open SSE_open NYSE_open\n",
    "analyser = \"return_pct\" # volume return_pct volatility_pct \n",
    "\n",
    "for i in range(2):\n",
    "    if i == 0:\n",
    "        print(\"--- Data since 2021 ---\")\n",
    "        dt = pd.DataFrame(df.loc[df[\"date\"] > \"2021\"].groupby(grouper)[analyser].mean().sort_index())\n",
    "    else:\n",
    "        print(\"--- Data until 2020 ---\")\n",
    "        dt = pd.DataFrame(df.loc[df[\"date\"] < \"2021\"].groupby(grouper)[analyser].mean().sort_index())\n",
    "    # dt[\"index_text\"] = [\"January\", \"February\", \"March\", \"April\", \"May\", \"June\", \"July\", \"August\", \"September\", \"October\", \"November\", \"December\"]\n",
    "    dt[\"index_text\"] = [\"Monday\", \"Tuesday\", \"Wednesday\", \"Thursday\", \"Friday\", \"Saturday\", \"Sunday\"]\n",
    "    # dt[\"index_text\"] = [\"0h\",\"1h\",\"2h\",\"3h\",\"4h\",\"5h\",\"6h\",\"7h\",\"8h\",\"9h\",\"10h\",\"11h\",\"12h\",\"13h\",\"14h\",\"15h\",\"16h\",\"17h\",\"18h\",\"19h\",\"20h\",\"21h\",\"22h\",\"23h\"]\n",
    "    # dt[\"index_text\"] = [\"Market_closed\", \"Market_open\"]\n",
    "\n",
    "    fig, ax_left = plt.subplots(figsize=(20, 5))\n",
    "\n",
    "    custom_palette = {}\n",
    "    for index, row in dt.iterrows():\n",
    "        if row[analyser] >= 0:\n",
    "            custom_palette[row[\"index_text\"]] = 'g'\n",
    "        else:\n",
    "            custom_palette[row[\"index_text\"]] = 'r'\n",
    "    g = sns.barplot(ax=ax_left, data=dt, x='index_text',y=analyser, palette=custom_palette)\n",
    "    for index, row in dt.iterrows():\n",
    "        if row[analyser] >= 0:\n",
    "            g.text(row.name, row[analyser], '+'+str(round(row[analyser], 3))+'%', color='black', ha=\"center\", va=\"bottom\")\n",
    "        else:\n",
    "            g.text(row.name, row[analyser], '-'+str(round(row[analyser], 3))+'%', color='black', ha=\"center\", va=\"top\")\n",
    "    ax_left.axhline(y=0, color='black', alpha=0.5)\n",
    "    plt.show()"
   ]
  }
 ],
 "metadata": {
  "kernelspec": {
   "display_name": "Python 3.10.2 ('.venv': venv)",
   "language": "python",
   "name": "python3"
  },
  "language_info": {
   "codemirror_mode": {
    "name": "ipython",
    "version": 3
   },
   "file_extension": ".py",
   "mimetype": "text/x-python",
   "name": "python",
   "nbconvert_exporter": "python",
   "pygments_lexer": "ipython3",
   "version": "3.10.2"
  },
  "orig_nbformat": 4,
  "vscode": {
   "interpreter": {
    "hash": "d5100c10c6b669a578e86ed43dbb636d25e3c9fb9ee424ec9e5e4bad34e2e434"
   }
  }
 },
 "nbformat": 4,
 "nbformat_minor": 2
}
